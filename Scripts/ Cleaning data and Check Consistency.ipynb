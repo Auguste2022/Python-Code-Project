{
 "cells": [
  {
   "cell_type": "code",
   "execution_count": 1,
   "id": "808e5a03",
   "metadata": {},
   "outputs": [],
   "source": [
    "# Import libraries\n",
    "import pandas as pd\n",
    "import numpy as np\n",
    "import os\n",
    "import matplotlib.pyplot as plt\n",
    "import seaborn as sns\n",
    "import scipy\n"
   ]
  },
  {
   "cell_type": "code",
   "execution_count": 2,
   "id": "6b264cb0",
   "metadata": {},
   "outputs": [],
   "source": [
    "# Define path\n",
    "path = r'/Users/Shikongo/Healthcare Cost Analysis and Prediction/'"
   ]
  },
  {
   "cell_type": "code",
   "execution_count": 3,
   "id": "4709bf78",
   "metadata": {},
   "outputs": [
    {
     "data": {
      "text/plain": [
       "'/Users/Shikongo/Healthcare Cost Analysis and Prediction/'"
      ]
     },
     "execution_count": 3,
     "metadata": {},
     "output_type": "execute_result"
    }
   ],
   "source": [
    "path"
   ]
  },
  {
   "cell_type": "code",
   "execution_count": 4,
   "id": "026c74e5",
   "metadata": {},
   "outputs": [],
   "source": [
    "df_insurance = pd.read_csv(r'/Users/Shikongo/Healthcare Cost Analysis and Prediction/Healthcare Raw Data/Raw data/insurance.csv',index_col = False)"
   ]
  },
  {
   "cell_type": "code",
   "execution_count": 5,
   "id": "651a0ffe",
   "metadata": {},
   "outputs": [],
   "source": [
    "df_insurance = pd.read_csv(os.path.join(path,'Healthcare Raw Data','Raw data','insurance.csv'),index_col = False)"
   ]
  },
  {
   "cell_type": "markdown",
   "id": "d160c050",
   "metadata": {},
   "source": [
    "1 Data Wrangling"
   ]
  },
  {
   "cell_type": "code",
   "execution_count": 6,
   "id": "105a71dc",
   "metadata": {},
   "outputs": [],
   "source": [
    "# No column to be dropped from insuarance data"
   ]
  },
  {
   "cell_type": "code",
   "execution_count": 7,
   "id": "9cddbbb8",
   "metadata": {},
   "outputs": [
    {
     "data": {
      "text/html": [
       "<div>\n",
       "<style scoped>\n",
       "    .dataframe tbody tr th:only-of-type {\n",
       "        vertical-align: middle;\n",
       "    }\n",
       "\n",
       "    .dataframe tbody tr th {\n",
       "        vertical-align: top;\n",
       "    }\n",
       "\n",
       "    .dataframe thead th {\n",
       "        text-align: right;\n",
       "    }\n",
       "</style>\n",
       "<table border=\"1\" class=\"dataframe\">\n",
       "  <thead>\n",
       "    <tr style=\"text-align: right;\">\n",
       "      <th></th>\n",
       "      <th>Unnamed: 0</th>\n",
       "      <th>Age</th>\n",
       "      <th>Sex</th>\n",
       "      <th>BMI</th>\n",
       "      <th>Children</th>\n",
       "      <th>Smoker</th>\n",
       "      <th>Region</th>\n",
       "      <th>Charges</th>\n",
       "    </tr>\n",
       "  </thead>\n",
       "  <tbody>\n",
       "    <tr>\n",
       "      <th>0</th>\n",
       "      <td>0</td>\n",
       "      <td>19</td>\n",
       "      <td>female</td>\n",
       "      <td>27.900</td>\n",
       "      <td>0</td>\n",
       "      <td>yes</td>\n",
       "      <td>southwest</td>\n",
       "      <td>$16884.924000</td>\n",
       "    </tr>\n",
       "    <tr>\n",
       "      <th>1</th>\n",
       "      <td>1</td>\n",
       "      <td>18</td>\n",
       "      <td>male</td>\n",
       "      <td>33.770</td>\n",
       "      <td>1</td>\n",
       "      <td>no</td>\n",
       "      <td>southeast</td>\n",
       "      <td>$1725.552300</td>\n",
       "    </tr>\n",
       "    <tr>\n",
       "      <th>2</th>\n",
       "      <td>2</td>\n",
       "      <td>28</td>\n",
       "      <td>male</td>\n",
       "      <td>33.000</td>\n",
       "      <td>3</td>\n",
       "      <td>no</td>\n",
       "      <td>southeast</td>\n",
       "      <td>$4449.462000</td>\n",
       "    </tr>\n",
       "    <tr>\n",
       "      <th>3</th>\n",
       "      <td>3</td>\n",
       "      <td>33</td>\n",
       "      <td>male</td>\n",
       "      <td>22.705</td>\n",
       "      <td>0</td>\n",
       "      <td>no</td>\n",
       "      <td>northwest</td>\n",
       "      <td>$21984.470610</td>\n",
       "    </tr>\n",
       "    <tr>\n",
       "      <th>4</th>\n",
       "      <td>4</td>\n",
       "      <td>32</td>\n",
       "      <td>male</td>\n",
       "      <td>28.880</td>\n",
       "      <td>0</td>\n",
       "      <td>no</td>\n",
       "      <td>northwest</td>\n",
       "      <td>$3866.855200</td>\n",
       "    </tr>\n",
       "  </tbody>\n",
       "</table>\n",
       "</div>"
      ],
      "text/plain": [
       "   Unnamed: 0  Age     Sex     BMI  Children Smoker     Region        Charges\n",
       "0           0   19  female  27.900         0    yes  southwest  $16884.924000\n",
       "1           1   18    male  33.770         1     no  southeast   $1725.552300\n",
       "2           2   28    male  33.000         3     no  southeast   $4449.462000\n",
       "3           3   33    male  22.705         0     no  northwest  $21984.470610\n",
       "4           4   32    male  28.880         0     no  northwest   $3866.855200"
      ]
     },
     "execution_count": 7,
     "metadata": {},
     "output_type": "execute_result"
    }
   ],
   "source": [
    "df_insurance.head()"
   ]
  },
  {
   "cell_type": "code",
   "execution_count": 8,
   "id": "c8da4d80",
   "metadata": {},
   "outputs": [],
   "source": [
    "# Rename columns: Change variables started with capital letter rather than small letter. And also capitalised BMI.\n",
    "df_insurance.rename(columns={'age':'Age','sex':'Sex','bmi':'BMI','children':'Children','smoker':'Smoker','region':'Region','charges':'Charges'},inplace =True)"
   ]
  },
  {
   "cell_type": "code",
   "execution_count": 9,
   "id": "1e6db759",
   "metadata": {
    "scrolled": false
   },
   "outputs": [
    {
     "data": {
      "text/html": [
       "<div>\n",
       "<style scoped>\n",
       "    .dataframe tbody tr th:only-of-type {\n",
       "        vertical-align: middle;\n",
       "    }\n",
       "\n",
       "    .dataframe tbody tr th {\n",
       "        vertical-align: top;\n",
       "    }\n",
       "\n",
       "    .dataframe thead th {\n",
       "        text-align: right;\n",
       "    }\n",
       "</style>\n",
       "<table border=\"1\" class=\"dataframe\">\n",
       "  <thead>\n",
       "    <tr style=\"text-align: right;\">\n",
       "      <th></th>\n",
       "      <th>Unnamed: 0</th>\n",
       "      <th>Age</th>\n",
       "      <th>Sex</th>\n",
       "      <th>BMI</th>\n",
       "      <th>Children</th>\n",
       "      <th>Smoker</th>\n",
       "      <th>Region</th>\n",
       "      <th>Charges</th>\n",
       "    </tr>\n",
       "  </thead>\n",
       "  <tbody>\n",
       "    <tr>\n",
       "      <th>0</th>\n",
       "      <td>0</td>\n",
       "      <td>19</td>\n",
       "      <td>female</td>\n",
       "      <td>27.900</td>\n",
       "      <td>0</td>\n",
       "      <td>yes</td>\n",
       "      <td>southwest</td>\n",
       "      <td>$16884.924000</td>\n",
       "    </tr>\n",
       "    <tr>\n",
       "      <th>1</th>\n",
       "      <td>1</td>\n",
       "      <td>18</td>\n",
       "      <td>male</td>\n",
       "      <td>33.770</td>\n",
       "      <td>1</td>\n",
       "      <td>no</td>\n",
       "      <td>southeast</td>\n",
       "      <td>$1725.552300</td>\n",
       "    </tr>\n",
       "    <tr>\n",
       "      <th>2</th>\n",
       "      <td>2</td>\n",
       "      <td>28</td>\n",
       "      <td>male</td>\n",
       "      <td>33.000</td>\n",
       "      <td>3</td>\n",
       "      <td>no</td>\n",
       "      <td>southeast</td>\n",
       "      <td>$4449.462000</td>\n",
       "    </tr>\n",
       "    <tr>\n",
       "      <th>3</th>\n",
       "      <td>3</td>\n",
       "      <td>33</td>\n",
       "      <td>male</td>\n",
       "      <td>22.705</td>\n",
       "      <td>0</td>\n",
       "      <td>no</td>\n",
       "      <td>northwest</td>\n",
       "      <td>$21984.470610</td>\n",
       "    </tr>\n",
       "    <tr>\n",
       "      <th>4</th>\n",
       "      <td>4</td>\n",
       "      <td>32</td>\n",
       "      <td>male</td>\n",
       "      <td>28.880</td>\n",
       "      <td>0</td>\n",
       "      <td>no</td>\n",
       "      <td>northwest</td>\n",
       "      <td>$3866.855200</td>\n",
       "    </tr>\n",
       "  </tbody>\n",
       "</table>\n",
       "</div>"
      ],
      "text/plain": [
       "   Unnamed: 0  Age     Sex     BMI  Children Smoker     Region        Charges\n",
       "0           0   19  female  27.900         0    yes  southwest  $16884.924000\n",
       "1           1   18    male  33.770         1     no  southeast   $1725.552300\n",
       "2           2   28    male  33.000         3     no  southeast   $4449.462000\n",
       "3           3   33    male  22.705         0     no  northwest  $21984.470610\n",
       "4           4   32    male  28.880         0     no  northwest   $3866.855200"
      ]
     },
     "execution_count": 9,
     "metadata": {},
     "output_type": "execute_result"
    }
   ],
   "source": [
    "df_insurance.head()"
   ]
  },
  {
   "cell_type": "raw",
   "id": "01e5366e",
   "metadata": {},
   "source": [
    "2. Data consistency "
   ]
  },
  {
   "cell_type": "code",
   "execution_count": 10,
   "id": "047b56cd",
   "metadata": {},
   "outputs": [],
   "source": [
    "# Check mixed data type: No mixed data type found\n",
    "for col in df_insurance.columns.tolist():\n",
    "  weird = (df_insurance[[col]].applymap(type) != df_insurance[[col]].iloc[0].apply(type)).any(axis = 1)\n",
    "  if len (df_insurance[weird]) > 0:\n",
    "    print (col)"
   ]
  },
  {
   "cell_type": "code",
   "execution_count": 11,
   "id": "c9f87fc9",
   "metadata": {},
   "outputs": [
    {
     "data": {
      "text/plain": [
       "Unnamed: 0    0\n",
       "Age           0\n",
       "Sex           0\n",
       "BMI           0\n",
       "Children      0\n",
       "Smoker        0\n",
       "Region        0\n",
       "Charges       0\n",
       "dtype: int64"
      ]
     },
     "execution_count": 11,
     "metadata": {},
     "output_type": "execute_result"
    }
   ],
   "source": [
    "# Check missing values: No missing values found\n",
    "df_insurance.isnull().sum()"
   ]
  },
  {
   "cell_type": "code",
   "execution_count": 12,
   "id": "c76ff3ae",
   "metadata": {},
   "outputs": [],
   "source": [
    "# Find duplicates: No duplicate\n",
    "df_insurance_clean = df_insurance"
   ]
  },
  {
   "cell_type": "code",
   "execution_count": 13,
   "id": "01b6f88c",
   "metadata": {},
   "outputs": [],
   "source": [
    "df_dups = df_insurance_clean[df_insurance_clean.duplicated()]"
   ]
  },
  {
   "cell_type": "code",
   "execution_count": 14,
   "id": "1b7e3d80",
   "metadata": {},
   "outputs": [
    {
     "data": {
      "text/html": [
       "<div>\n",
       "<style scoped>\n",
       "    .dataframe tbody tr th:only-of-type {\n",
       "        vertical-align: middle;\n",
       "    }\n",
       "\n",
       "    .dataframe tbody tr th {\n",
       "        vertical-align: top;\n",
       "    }\n",
       "\n",
       "    .dataframe thead th {\n",
       "        text-align: right;\n",
       "    }\n",
       "</style>\n",
       "<table border=\"1\" class=\"dataframe\">\n",
       "  <thead>\n",
       "    <tr style=\"text-align: right;\">\n",
       "      <th></th>\n",
       "      <th>Unnamed: 0</th>\n",
       "      <th>Age</th>\n",
       "      <th>BMI</th>\n",
       "      <th>Children</th>\n",
       "    </tr>\n",
       "  </thead>\n",
       "  <tbody>\n",
       "    <tr>\n",
       "      <th>count</th>\n",
       "      <td>1338.000000</td>\n",
       "      <td>1338.000000</td>\n",
       "      <td>1338.000000</td>\n",
       "      <td>1338.000000</td>\n",
       "    </tr>\n",
       "    <tr>\n",
       "      <th>mean</th>\n",
       "      <td>668.500000</td>\n",
       "      <td>39.207025</td>\n",
       "      <td>30.663397</td>\n",
       "      <td>1.094918</td>\n",
       "    </tr>\n",
       "    <tr>\n",
       "      <th>std</th>\n",
       "      <td>386.391641</td>\n",
       "      <td>14.049960</td>\n",
       "      <td>6.098187</td>\n",
       "      <td>1.205493</td>\n",
       "    </tr>\n",
       "    <tr>\n",
       "      <th>min</th>\n",
       "      <td>0.000000</td>\n",
       "      <td>18.000000</td>\n",
       "      <td>15.960000</td>\n",
       "      <td>0.000000</td>\n",
       "    </tr>\n",
       "    <tr>\n",
       "      <th>25%</th>\n",
       "      <td>334.250000</td>\n",
       "      <td>27.000000</td>\n",
       "      <td>26.296250</td>\n",
       "      <td>0.000000</td>\n",
       "    </tr>\n",
       "    <tr>\n",
       "      <th>50%</th>\n",
       "      <td>668.500000</td>\n",
       "      <td>39.000000</td>\n",
       "      <td>30.400000</td>\n",
       "      <td>1.000000</td>\n",
       "    </tr>\n",
       "    <tr>\n",
       "      <th>75%</th>\n",
       "      <td>1002.750000</td>\n",
       "      <td>51.000000</td>\n",
       "      <td>34.693750</td>\n",
       "      <td>2.000000</td>\n",
       "    </tr>\n",
       "    <tr>\n",
       "      <th>max</th>\n",
       "      <td>1337.000000</td>\n",
       "      <td>64.000000</td>\n",
       "      <td>53.130000</td>\n",
       "      <td>5.000000</td>\n",
       "    </tr>\n",
       "  </tbody>\n",
       "</table>\n",
       "</div>"
      ],
      "text/plain": [
       "        Unnamed: 0          Age          BMI     Children\n",
       "count  1338.000000  1338.000000  1338.000000  1338.000000\n",
       "mean    668.500000    39.207025    30.663397     1.094918\n",
       "std     386.391641    14.049960     6.098187     1.205493\n",
       "min       0.000000    18.000000    15.960000     0.000000\n",
       "25%     334.250000    27.000000    26.296250     0.000000\n",
       "50%     668.500000    39.000000    30.400000     1.000000\n",
       "75%    1002.750000    51.000000    34.693750     2.000000\n",
       "max    1337.000000    64.000000    53.130000     5.000000"
      ]
     },
     "execution_count": 14,
     "metadata": {},
     "output_type": "execute_result"
    }
   ],
   "source": [
    "# Descriptive statistical analysis\n",
    "df_insurance.describe()"
   ]
  },
  {
   "cell_type": "markdown",
   "id": "26f43b7f",
   "metadata": {},
   "source": [
    "Interprent above output\n",
    "1.\tAge:\n",
    "The minimum age is 18, and the maximum age is 64. These values seem reasonable and within a typical range for adults.\n",
    "2.\tBMI (Body Mass Index):\n",
    "The minimum BMI is 15.96, and the maximum BMI is 53.13. These values also appear to be within a feasible range for BMI.\n",
    "3.\tChildren:\n",
    "The minimum number of children is 0, and the maximum is 5. This seems appropriate, as it's common for people to have between 0 and 5 children.\n",
    "4.\tCharges:\n",
    "The minimum insurance charge is $1,121.87, and the maximum is $63,770.43. These values show a wide range of insurance charges, which is not unusual in healthcare.\n",
    "\n",
    "Overall, based on the minimum and maximum values, and  averages seem within expected ranges and nothing immediately appears to be off or suspicious in the data.  \n"
   ]
  },
  {
   "cell_type": "code",
   "execution_count": 15,
   "id": "8145bb09",
   "metadata": {},
   "outputs": [],
   "source": [
    "df_insurance.to_csv(os.path.join(path,'Healthcare Clean Data',' Clean Data','insurance2.csv'))"
   ]
  },
  {
   "cell_type": "code",
   "execution_count": null,
   "id": "acd0d571",
   "metadata": {},
   "outputs": [],
   "source": []
  }
 ],
 "metadata": {
  "kernelspec": {
   "display_name": "Python 3 (ipykernel)",
   "language": "python",
   "name": "python3"
  },
  "language_info": {
   "codemirror_mode": {
    "name": "ipython",
    "version": 3
   },
   "file_extension": ".py",
   "mimetype": "text/x-python",
   "name": "python",
   "nbconvert_exporter": "python",
   "pygments_lexer": "ipython3",
   "version": "3.9.13"
  }
 },
 "nbformat": 4,
 "nbformat_minor": 5
}
